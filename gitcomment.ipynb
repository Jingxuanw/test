{
 "cells": [
  {
   "cell_type": "markdown",
   "metadata": {},
   "source": [
    "# 1.git initialization"
   ]
  },
  {
   "cell_type": "markdown",
   "metadata": {},
   "source": [
    "## git init"
   ]
  },
  {
   "cell_type": "markdown",
   "metadata": {},
   "source": [
    "## git config--global user.name “Jingxuanw“ // username"
   ]
  },
  {
   "cell_type": "markdown",
   "metadata": {},
   "source": [
    "## git config --global user.email “jingxuan.e.wang@kcl.ac.uk“ // email"
   ]
  },
  {
   "cell_type": "markdown",
   "metadata": {},
   "source": [
    "## git remote add origin https://github.com/Jingxuanw/test.git // remote git url"
   ]
  },
  {
   "cell_type": "markdown",
   "metadata": {},
   "source": [
    "# 2.git push file"
   ]
  },
  {
   "cell_type": "markdown",
   "metadata": {},
   "source": [
    "## git status // check whether there is a file needs to be git "
   ]
  },
  {
   "cell_type": "markdown",
   "metadata": {},
   "source": [
    "## vi ./.gitignore // add ignore filename\n",
    "### vim :wq // save and quit"
   ]
  },
  {
   "cell_type": "markdown",
   "metadata": {},
   "source": [
    "## git add .filename or git add ."
   ]
  },
  {
   "cell_type": "markdown",
   "metadata": {},
   "source": [
    "## git commit -m \"action\""
   ]
  },
  {
   "cell_type": "markdown",
   "metadata": {},
   "source": [
    "## git push origin branch_name"
   ]
  },
  {
   "cell_type": "markdown",
   "metadata": {},
   "source": [
    "# 3.git change branch"
   ]
  },
  {
   "cell_type": "markdown",
   "metadata": {},
   "source": [
    "## git checkout -b new_branch // create a new branch "
   ]
  },
  {
   "cell_type": "markdown",
   "metadata": {},
   "source": [
    "## git checkout branch_name // switch branch"
   ]
  },
  {
   "cell_type": "code",
   "execution_count": null,
   "metadata": {},
   "outputs": [],
   "source": [
    "## git branch //check q branch"
   ]
  },
  {
   "cell_type": "code",
   "execution_count": 3,
   "metadata": {},
   "outputs": [
    {
     "name": "stdout",
     "output_type": "stream",
     "text": [
      "On branch master\n",
      "Untracked files:\n",
      "  (use \"git add <file>...\" to include in what will be committed)\n",
      "\t\u001b[31m.ipynb_checkpoints/\u001b[m\n",
      "\t\u001b[31mgitcomment.ipynb\u001b[m\n",
      "\n",
      "nothing added to commit but untracked files present (use \"git add\" to track)\n"
     ]
    }
   ],
   "source": [
    "!git status"
   ]
  },
  {
   "cell_type": "code",
   "execution_count": 5,
   "metadata": {},
   "outputs": [],
   "source": [
    "! git add ."
   ]
  },
  {
   "cell_type": "code",
   "execution_count": 7,
   "metadata": {},
   "outputs": [
    {
     "name": "stdout",
     "output_type": "stream",
     "text": [
      "[master ef3ffc2] add common commands\n",
      " 2 files changed, 157 insertions(+)\n",
      " create mode 100644 gitcomment.ipynb\n"
     ]
    }
   ],
   "source": [
    "!git commit -m \"add common commands\""
   ]
  },
  {
   "cell_type": "code",
   "execution_count": 8,
   "metadata": {},
   "outputs": [
    {
     "name": "stdout",
     "output_type": "stream",
     "text": [
      "Switched to a new branch 'commands'\n"
     ]
    }
   ],
   "source": [
    "!git checkout -b commands"
   ]
  },
  {
   "cell_type": "code",
   "execution_count": 9,
   "metadata": {},
   "outputs": [
    {
     "name": "stdout",
     "output_type": "stream",
     "text": [
      "remote: Invalid username or password.\n",
      "fatal: Authentication failed for 'https://github.com/Jingxuanw/test.git/'\n"
     ]
    }
   ],
   "source": [
    "!git push origin commands"
   ]
  },
  {
   "cell_type": "code",
   "execution_count": null,
   "metadata": {},
   "outputs": [],
   "source": []
  }
 ],
 "metadata": {
  "kernelspec": {
   "display_name": "Python 3",
   "language": "python",
   "name": "python3"
  },
  "language_info": {
   "codemirror_mode": {
    "name": "ipython",
    "version": 3
   },
   "file_extension": ".py",
   "mimetype": "text/x-python",
   "name": "python",
   "nbconvert_exporter": "python",
   "pygments_lexer": "ipython3",
   "version": "3.7.9"
  }
 },
 "nbformat": 4,
 "nbformat_minor": 4
}
